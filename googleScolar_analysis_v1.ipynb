{
 "cells": [
  {
   "cell_type": "code",
   "execution_count": 30,
   "metadata": {},
   "outputs": [],
   "source": [
    "import requests\n",
    "from bs4 import BeautifulSoup\n",
    "import pathlib\n",
    "from datetime import datetime\n",
    "import os\n",
    "import time\n",
    "import sys\n",
    "sys.path.append('.')\n",
    "\n",
    "from utils import *\n",
    "from compress_utils import compressed_cpickle, decompressed_cpickle"
   ]
  },
  {
   "cell_type": "code",
   "execution_count": 74,
   "metadata": {},
   "outputs": [],
   "source": [
    "def get_topic(soup, href=True):\n",
    "    \n",
    "    h3_soup = soup.find_all('h3', class_=\"gs_rt\")\n",
    "    gs_rs_soup = soup.find_all('div', class_=\"gs_rs\")\n",
    "    gs_a_group = soup.find_all('div', class_='gs_a')\n",
    "    result = {'topic':[], 'abstract':[], \"year\":[]}\n",
    "    \n",
    "    valid_website = ['openaccess.thecvf.com', 'proceedings.neurips.cc', 'link.springer.com', 'dl.acm.org',\n",
    "         'arxiv.org', 'www.pnas.org', 'www.usenix.org', 'www.sciencedirect.com', 'www.nature.com',\n",
    "          'proceedings.mlr.press']\n",
    "    except_lis = ['ieeexplore.ieee.org']\n",
    "    valid_website = [i for i in valid_website if not i in except_lis]\n",
    "    \n",
    "    text_rule = lambda text:text.replace('.','_')\n",
    "    extract_func_dic = {}\n",
    "    for website in valid_website:\n",
    "        name_ = 'abs_from_'+text_rule(website)\n",
    "        extract_func_dic[website] = eval(name_)\n",
    "    \n",
    "\n",
    "    if href:\n",
    "        result['href'] = []\n",
    "        \n",
    "                \n",
    "    # get topic and abstract and href\n",
    "    for topic_res, abstract_res, attr_res in zip(h3_soup, gs_rs_soup, gs_a_group):\n",
    "        # get hef:\n",
    "        if href:\n",
    "            a = str(topic_res).split(' ')\n",
    "            href_ = [e[6:-1] for e in a if e.__contains__('href')][0]\n",
    "    #             print(href_)\n",
    "            result['href'].append(href_)\n",
    "        \n",
    "        # get year\n",
    "        for i in [str(year) for year in range(2015,2022)]:\n",
    "            if attr_res.get_text().__contains__(i):\n",
    "                result['year'].append(i)\n",
    "#                 print(i)\n",
    "        \n",
    "        # get topic\n",
    "        topic_text = topic_res.get_text()\n",
    "        b = '[HTML][HTML] '\n",
    "        topic_text = topic_text.replace(b, '')\n",
    "        result['topic'].append(topic_text)\n",
    "        \n",
    "        \n",
    "        # get abstract\n",
    "        website = href_.split('/')[2] \n",
    "        if [i for i in valid_website if i.__contains__(website)]:\n",
    "            abstract = extract_func_dic[website](href_)\n",
    "            result['abstract'].append(abstract)\n",
    "        else:\n",
    "            # google scholar default short abstract\n",
    "            result['abstract'].append(abstract_res.get_text())\n",
    "    \n",
    "    return result"
   ]
  },
  {
   "cell_type": "code",
   "execution_count": 93,
   "metadata": {},
   "outputs": [],
   "source": [
    "# test code\n",
    "# google_url = \"https://scholar.google.com.tw/scholar?as_ylo=2021&q=federated+learning&hl=zh-TW&as_sdt=0,5\"\n",
    "# r = requests.get(google_url)\n",
    "# soup = BeautifulSoup(r.text, 'html.parser')\n",
    "# res = get_topic(soup)\n",
    "# print(res)\n",
    "\n",
    "# for contents in zip(*res.values()):\n",
    "#     print(contents)\n",
    "#     for i in range(len(contents)):\n",
    "#         print(list(res.keys())[i], contents[i])"
   ]
  },
  {
   "cell_type": "markdown",
   "metadata": {},
   "source": [
    "page\n",
    "- [ok]. 0~30\n",
    "- [ok]. 30~60\n",
    "- [ok]. 60~90\n",
    "- [ok]. 90~120"
   ]
  },
  {
   "cell_type": "code",
   "execution_count": 158,
   "metadata": {},
   "outputs": [
    {
     "name": "stdout",
     "output_type": "stream",
     "text": [
      "https://scholar.google.com.tw/scholar?as_ylo=2021&q=federated+learning&hl=zh-TW&as_sdt=0,5&start=900\n",
      "https://scholar.google.com.tw/scholar?as_ylo=2021&q=federated+learning&hl=zh-TW&as_sdt=0,5&start=910\n",
      "https://scholar.google.com.tw/scholar?as_ylo=2021&q=federated+learning&hl=zh-TW&as_sdt=0,5&start=920\n",
      "https://scholar.google.com.tw/scholar?as_ylo=2021&q=federated+learning&hl=zh-TW&as_sdt=0,5&start=930\n",
      "https://scholar.google.com.tw/scholar?as_ylo=2021&q=federated+learning&hl=zh-TW&as_sdt=0,5&start=940\n",
      "https://scholar.google.com.tw/scholar?as_ylo=2021&q=federated+learning&hl=zh-TW&as_sdt=0,5&start=950\n",
      "https://scholar.google.com.tw/scholar?as_ylo=2021&q=federated+learning&hl=zh-TW&as_sdt=0,5&start=960\n",
      "https://scholar.google.com.tw/scholar?as_ylo=2021&q=federated+learning&hl=zh-TW&as_sdt=0,5&start=970\n",
      "https://scholar.google.com.tw/scholar?as_ylo=2021&q=federated+learning&hl=zh-TW&as_sdt=0,5&start=980\n"
     ]
    }
   ],
   "source": [
    "google_url = \"https://scholar.google.com.tw/scholar?as_ylo=2021&q=federated+learning&hl=zh-TW&as_sdt=0,5\"\n",
    "end = 980\n",
    "dic = {}\n",
    "for i in range(end//10+1)[90:120]:\n",
    "    a = google_url + f'&start={i*10}'\n",
    "    print(a)\n",
    "    r = requests.get(a)\n",
    "    \n",
    "    soup = BeautifulSoup(r.text, 'html.parser')\n",
    "    res = get_topic(soup)\n",
    "#     print(res)\n",
    "#     lis.append()\n",
    "    dic['page_'+str(i)] = res\n",
    "    time.sleep(5)\n",
    "    "
   ]
  },
  {
   "cell_type": "code",
   "execution_count": 159,
   "metadata": {},
   "outputs": [
    {
     "data": {
      "text/plain": [
       "dict_keys(['page_90', 'page_91', 'page_92', 'page_93', 'page_94', 'page_95', 'page_96', 'page_97', 'page_98'])"
      ]
     },
     "execution_count": 159,
     "metadata": {},
     "output_type": "execute_result"
    }
   ],
   "source": [
    "dic.keys()"
   ]
  },
  {
   "cell_type": "code",
   "execution_count": 160,
   "metadata": {},
   "outputs": [],
   "source": [
    "from datetime import datetime\n",
    "import pathlib\n",
    "\n",
    "path = './Data'\n",
    "pathlib.Path(f'{path}').mkdir(parents=True, exist_ok=True)  \n",
    "\n",
    "# datetime object containing current date and time\n",
    "now = datetime.now()\n",
    "# dd/mm/YY H:M:S\n",
    "dt_string = now.strftime(\"%d%m-%H%M\")\n",
    "# print(dt_string)\n",
    "compressed_cpickle(f'./Data/scholar_analysis_FL_{dt_string}', dic)\n"
   ]
  },
  {
   "cell_type": "code",
   "execution_count": 161,
   "metadata": {},
   "outputs": [
    {
     "name": "stdout",
     "output_type": "stream",
     "text": [
      "['./Data/scholar_analysis_FL_1401-1217.pbz2', './Data/scholar_analysis_FL_1401-1545.pbz2', './Data/scholar_analysis_FL_1401-1633.pbz2', './Data/scholar_analysis_FL_1401-1643.pbz2']\n"
     ]
    },
    {
     "data": {
      "text/plain": [
       "'./Data/scholar_analysis_FL_1401-1643.pbz2'"
      ]
     },
     "execution_count": 161,
     "metadata": {},
     "output_type": "execute_result"
    }
   ],
   "source": [
    "import os\n",
    "import time\n",
    "\n",
    "pbz_paths = ['/'.join([path,i]) for i in os.listdir(path) if i.__contains__('.pbz2')]\n",
    "print(pbz_paths)\n",
    "newest_file_path = max(pbz_paths, key=os.path.getctime)\n",
    "newest_file_path"
   ]
  },
  {
   "cell_type": "code",
   "execution_count": 162,
   "metadata": {},
   "outputs": [
    {
     "data": {
      "text/plain": [
       "'./Data/scholar_analysis_FL_1401-1643.pbz2'"
      ]
     },
     "execution_count": 162,
     "metadata": {},
     "output_type": "execute_result"
    }
   ],
   "source": [
    "newest_file_path"
   ]
  },
  {
   "cell_type": "code",
   "execution_count": 163,
   "metadata": {},
   "outputs": [
    {
     "data": {
      "text/plain": [
       "dict_keys(['topic', 'abstract', 'year', 'href'])"
      ]
     },
     "execution_count": 163,
     "metadata": {},
     "output_type": "execute_result"
    }
   ],
   "source": [
    "res.keys()"
   ]
  },
  {
   "cell_type": "code",
   "execution_count": 164,
   "metadata": {},
   "outputs": [
    {
     "name": "stdout",
     "output_type": "stream",
     "text": [
      "<< topic >> Privacy-preserving spatiotemporal scenario generation of renewable energies: A federated deep generative learning approach\n",
      "<< abstract >> … Besides, an experiment with different federated learning settings is designed and conducted \n",
      "to verify the robustness of our method. … an emerging and powerful distributed machine \n",
      "learning technology— federated learning. Federated learning is initially proposed by Google …\n",
      "<< year >> 2021\n",
      "<< href >> https://ieeexplore.ieee.org/abstract/document/9492026/\n",
      "\n",
      "<< topic >> A Preliminary Scoping Study of Federated Learning for the Internet of Medical Things\n",
      "<< abstract >> … This paper presents a scoping review of federated learning for the Internet of Medical Things \n",
      "(… machine learning and avoiding the need to centrally compile patient data, federated learning \n",
      "… maps the literature relevant to Federated Learning and IoMT and identifies key concepts. …\n",
      "<< year >> 2021\n",
      "<< href >> https://ebooks.iospress.nl/doi/10.3233/SHTI210216\n",
      "\n",
      "<< topic >> Intrusion Detection based on Privacy-preserving Federated Learning for the Industrial IoT\n",
      "<< abstract >> … Intrusion Detection based on Privacy-preserving Federated Learning for the Industrial IoT \n",
      "Abstract: Federated Learning (FL) has attracted … According to our evaluation, the use of Fed+ \n",
      "in our setting provides similar results even when noise is included in the federated training …\n",
      "<< year >> 2021\n",
      "<< href >> https://ieeexplore.ieee.org/abstract/document/9609643/\n",
      "\n",
      "<< topic >> Reputation-Based Regional Federated Learning for Knowledge Trading in Blockchain-Enhanced IoV\n",
      "<< abstract >> … machine learning (ML) and shared in the form of small-scale well-trained model parameters, \n",
      "which improves collaborative learning more … and proposes a Regional Federated Learning \n",
      "(RFL) framework, in which all regions maintain their own learning models, ie knowledge. …\n",
      "<< year >> 2021\n",
      "<< href >> https://ieeexplore.ieee.org/abstract/document/9417347/\n",
      "\n",
      "<< topic >> Blockchain-Enabled Clustered Federated Learning in Fog Computing Networks\n",
      "<< abstract >> … to improve learning efficiency. Furthermore, we combine the clustered federated learning \n",
      "with the blockchain-supported fog computing networks, which could verify local models \n",
      "uploaded by users and generate the traceable global models to improve the learning efficiency. …\n",
      "<< year >> 2021\n",
      "<< href >> https://ieeexplore.ieee.org/abstract/document/9625303/\n",
      "\n",
      "<< topic >> FedPandemic: A Cross-Device Federated Learning Approach Towards Elementary Prognosis of Diseases During a Pandemic\n",
      "<< abstract >> The amount of data, manpower and capital required to understand, evaluate andagree on a group of symptoms for the elementary prognosis of pandemic diseasesis enormous. In this paper, we present FedPandemic, a novel noiseimplementation algorithm integrated with cross-device Federated learning forElementary symptom prognosis during a pandemic, taking COVID-19 as a casestudy. Our results display consistency and enhance robustness in recovering thecommon symptoms displayed by the disease, paving a faster and cheaper pathtowards symptom retrieval while also preserving the privacy of patient'ssymptoms via Federated learning.\n",
      "<< year >> 2021\n",
      "<< href >> https://arxiv.org/abs/2104.01864\n",
      "\n",
      "<< topic >> Federated deep learning for detecting COVID-19 lung abnormalities in CT: a privacy-preserving multinational validation study\n",
      "<< abstract >> Data privacy mechanisms are essential for rapidly scaling medical training databases to capture the heterogeneity of patient data distributions toward robust and generalizable machine learning systems. In the current COVID-19 pandemic, a major focus of artificial intelligence (AI) is interpreting chest CT, which can be readily used in the assessment and management of the disease. This paper demonstrates the feasibility of a federated learning method for detecting COVID-19 related CT abnormalities with external validation on patients from a multinational study. We recruited 132 patients from seven multinational different centers, with three internal hospitals from Hong Kong for training and testing, and four external, independent datasets from Mainland China and Germany, for validating model generalizability. We also conducted case studies on longitudinal scans for automated estimation of lesion burden for hospitalized COVID-19 patients. We explore the federated learning algorithms to develop a privacy-preserving AI model for COVID-19 medical image diagnosis with good generalization capability on unseen multinational datasets. Federated learning could provide an effective mechanism during pandemics to rapidly develop clinically useful AI across institutions and countries overcoming the burden of central aggregation of large amounts of sensitive data.\n",
      "<< year >> 2021\n",
      "<< href >> https://www.nature.com/articles/s41746-021-00431-6\n",
      "\n",
      "<< topic >> Algorithms for Overpredictive Signal Analytics in Federated Learning\n",
      "<< abstract >> … The recently proposed federated learning architecture [1, 2] addresses these issues through \n",
      "client side signal processing and server level … in such distributed learning tasks. In this paper, \n",
      "we consider the signal approximation problem in a federated learning based architecture, …\n",
      "<< year >> 2020\n",
      "<< href >> https://ieeexplore.ieee.org/abstract/document/9287390/\n",
      "\n",
      "<< topic >> FLRA: A Reference Architecture for Federated Learning Systems\n",
      "<< abstract >> … and machine learning knowledge. Although much effort has been put into federated learning \n",
      "from the machine learning perspectives, our … lack of considerations for software architecture \n",
      "design for federated learning. In this paper, we propose FLRA, a reference architecture for …\n",
      "<< year >> 2021\n",
      "<< href >> https://ui.adsabs.harvard.edu/abs/2021arXiv210611570K/abstract\n",
      "\n",
      "<< topic >> Federated Learning Backdoor Attack Scheme Based on Generative Adversarial Network\n",
      "<< abstract >> … Abstract: Federated learning enables users to participate in collaborative model training … \n",
      "However, federated learning shows inherent vulnerability to backdoor attacks, where the … This \n",
      "paper proposes a new federated learning backdoor attack scheme, Bac_GAN. By combining …\n",
      "<< year >> 2021\n",
      "<< href >> https://crad.ict.ac.cn/EN/abstract/abstract4522.shtml\n",
      "\n"
     ]
    }
   ],
   "source": [
    "# path = './Data/scholar_analysis_FL_1401-1217.pbz2'\n",
    "path = newest_file_path\n",
    "res = decompressed_cpickle(path)\n",
    "page_res = res[list(res.keys())[0]]\n",
    "\n",
    "for contents in zip(*page_res.values()):\n",
    "#     print(contents)\n",
    "    for i in range(len(contents)):\n",
    "        print(\"<<\",list(page_res.keys())[i],\">>\", contents[i])\n",
    "    print('')"
   ]
  },
  {
   "cell_type": "code",
   "execution_count": null,
   "metadata": {},
   "outputs": [],
   "source": []
  },
  {
   "cell_type": "code",
   "execution_count": null,
   "metadata": {},
   "outputs": [],
   "source": []
  }
 ],
 "metadata": {
  "kernelspec": {
   "display_name": "Python 3",
   "language": "python",
   "name": "python3"
  },
  "language_info": {
   "codemirror_mode": {
    "name": "ipython",
    "version": 3
   },
   "file_extension": ".py",
   "mimetype": "text/x-python",
   "name": "python",
   "nbconvert_exporter": "python",
   "pygments_lexer": "ipython3",
   "version": "3.8.5"
  }
 },
 "nbformat": 4,
 "nbformat_minor": 5
}
